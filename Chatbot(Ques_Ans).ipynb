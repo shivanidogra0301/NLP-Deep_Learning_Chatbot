{
  "nbformat": 4,
  "nbformat_minor": 0,
  "metadata": {
    "colab": {
      "name": "Chatbot(Ques/Ans).ipynb",
      "provenance": []
    },
    "kernelspec": {
      "name": "python3",
      "display_name": "Python 3"
    },
    "accelerator": "GPU"
  },
  "cells": [
    {
      "cell_type": "code",
      "metadata": {
        "id": "13tzIq4ZUHaw",
        "colab_type": "code",
        "colab": {}
      },
      "source": [
        "#Library Imports\n",
        "import pickle\n",
        "import numpy as np"
      ],
      "execution_count": 462,
      "outputs": []
    },
    {
      "cell_type": "code",
      "metadata": {
        "id": "as0STcckUf4R",
        "colab_type": "code",
        "colab": {}
      },
      "source": [
        "#retrieve training data\n",
        "with open('/content/train_qa.txt', 'rb') as f:\n",
        "    train_data = pickle.load(f)"
      ],
      "execution_count": 463,
      "outputs": []
    },
    {
      "cell_type": "code",
      "metadata": {
        "id": "BSjOYfwRU4iT",
        "colab_type": "code",
        "colab": {}
      },
      "source": [
        "#retrieve test data\n",
        "with open('/content/test_qa.txt', 'rb') as f:\n",
        "    test_data = pickle.load(f)"
      ],
      "execution_count": 464,
      "outputs": []
    },
    {
      "cell_type": "code",
      "metadata": {
        "id": "3H6XTmbxXIkf",
        "colab_type": "code",
        "colab": {
          "base_uri": "https://localhost:8080/",
          "height": 35
        },
        "outputId": "27e65cbc-aa77-4eb2-f39a-321c02b73041"
      },
      "source": [
        "#Number of training instances\n",
        "len(train_data)\n",
        "#Number of test instances\n",
        "len(test_data)"
      ],
      "execution_count": 465,
      "outputs": [
        {
          "output_type": "execute_result",
          "data": {
            "text/plain": [
              "1000"
            ]
          },
          "metadata": {
            "tags": []
          },
          "execution_count": 465
        }
      ]
    },
    {
      "cell_type": "code",
      "metadata": {
        "id": "fYvXvpyrXi0y",
        "colab_type": "code",
        "colab": {
          "base_uri": "https://localhost:8080/",
          "height": 277
        },
        "outputId": "fc5d63f2-751b-438b-b6d2-0f58d44a00f5"
      },
      "source": [
        "#Example of one of the instances\n",
        "train_data[10]"
      ],
      "execution_count": 466,
      "outputs": [
        {
          "output_type": "execute_result",
          "data": {
            "text/plain": [
              "(['Sandra',\n",
              "  'went',\n",
              "  'back',\n",
              "  'to',\n",
              "  'the',\n",
              "  'hallway',\n",
              "  '.',\n",
              "  'Sandra',\n",
              "  'moved',\n",
              "  'to',\n",
              "  'the',\n",
              "  'office',\n",
              "  '.'],\n",
              " ['Is', 'Sandra', 'in', 'the', 'office', '?'],\n",
              " 'yes')"
            ]
          },
          "metadata": {
            "tags": []
          },
          "execution_count": 466
        }
      ]
    },
    {
      "cell_type": "code",
      "metadata": {
        "id": "js6U0LgAX3bB",
        "colab_type": "code",
        "colab": {
          "base_uri": "https://localhost:8080/",
          "height": 35
        },
        "outputId": "c98f39ae-874c-4b9e-abea-1742d2e348cc"
      },
      "source": [
        "' '.join(train_data[10][0]) #story"
      ],
      "execution_count": 467,
      "outputs": [
        {
          "output_type": "execute_result",
          "data": {
            "application/vnd.google.colaboratory.intrinsic": {
              "type": "string"
            },
            "text/plain": [
              "'Sandra went back to the hallway . Sandra moved to the office .'"
            ]
          },
          "metadata": {
            "tags": []
          },
          "execution_count": 467
        }
      ]
    },
    {
      "cell_type": "code",
      "metadata": {
        "id": "kKoBYc8yYJAk",
        "colab_type": "code",
        "colab": {
          "base_uri": "https://localhost:8080/",
          "height": 35
        },
        "outputId": "8022f8aa-9e1a-4698-eb07-884002bfcf71"
      },
      "source": [
        "' '.join(train_data[10][1]) #question"
      ],
      "execution_count": 468,
      "outputs": [
        {
          "output_type": "execute_result",
          "data": {
            "application/vnd.google.colaboratory.intrinsic": {
              "type": "string"
            },
            "text/plain": [
              "'Is Sandra in the office ?'"
            ]
          },
          "metadata": {
            "tags": []
          },
          "execution_count": 468
        }
      ]
    },
    {
      "cell_type": "code",
      "metadata": {
        "id": "4I73rnhscndM",
        "colab_type": "code",
        "colab": {
          "base_uri": "https://localhost:8080/",
          "height": 35
        },
        "outputId": "8990f9e2-c8ef-424f-f360-2e3238bedd5f"
      },
      "source": [
        "train_data[10][2] #answer"
      ],
      "execution_count": 469,
      "outputs": [
        {
          "output_type": "execute_result",
          "data": {
            "application/vnd.google.colaboratory.intrinsic": {
              "type": "string"
            },
            "text/plain": [
              "'yes'"
            ]
          },
          "metadata": {
            "tags": []
          },
          "execution_count": 469
        }
      ]
    },
    {
      "cell_type": "code",
      "metadata": {
        "id": "RIqQUXddn9e5",
        "colab_type": "code",
        "colab": {}
      },
      "source": [
        "#First we need to create a vocabulary with our data\n",
        "#For this we will use the training data only to \n",
        "vocab = set()\n",
        "for story, question, answer in train_data:\n",
        "    vocab = vocab.union(set(story)) #Set returns unique words in the sentence\n",
        "                                    #Union returns the unique common elements from a two sets\n",
        "    vocab = vocab.union(set(question))"
      ],
      "execution_count": 470,
      "outputs": []
    },
    {
      "cell_type": "code",
      "metadata": {
        "id": "um6l1bk3n_sn",
        "colab_type": "code",
        "colab": {}
      },
      "source": [
        "vocab.add('no')\n",
        "vocab.add('yes')"
      ],
      "execution_count": 471,
      "outputs": []
    },
    {
      "cell_type": "code",
      "metadata": {
        "id": "vyhqGIQdoHji",
        "colab_type": "code",
        "colab": {
          "base_uri": "https://localhost:8080/",
          "height": 55
        },
        "outputId": "0f0221b1-9002-4e77-defd-acc3f80d5f26"
      },
      "source": [
        "print(vocab)"
      ],
      "execution_count": 472,
      "outputs": [
        {
          "output_type": "stream",
          "text": [
            "{'moved', 'bathroom', 'in', 'Is', 'hallway', 'dropped', 'down', 'yes', 'kitchen', 'travelled', 'milk', 'bedroom', 'got', 'up', 'went', 'put', '?', 'office', 'Sandra', 'garden', 'discarded', 'to', 'Mary', 'took', 'football', 'no', 'journeyed', 'John', '.', 'left', 'the', 'Daniel', 'there', 'back', 'apple', 'grabbed', 'picked'}\n"
          ],
          "name": "stdout"
        }
      ]
    },
    {
      "cell_type": "code",
      "metadata": {
        "id": "4sF46kJYoeKN",
        "colab_type": "code",
        "colab": {}
      },
      "source": [
        "#Calculate len and add 1 for Keras placeholder - Placeholders are used to feed in the data to the network. \n",
        "#They need a data type, and have optional shape arguements.\n",
        "#They will be empty at first, and then the data will get fed into the placeholder\n",
        "vocab_len = len(vocab) + 1"
      ],
      "execution_count": 473,
      "outputs": []
    },
    {
      "cell_type": "code",
      "metadata": {
        "id": "fQxWG4ZYozyF",
        "colab_type": "code",
        "colab": {
          "base_uri": "https://localhost:8080/",
          "height": 35
        },
        "outputId": "448fadd0-b827-4ec3-a284-272f2a38172a"
      },
      "source": [
        "print(vocab_len)"
      ],
      "execution_count": 474,
      "outputs": [
        {
          "output_type": "stream",
          "text": [
            "38\n"
          ],
          "name": "stdout"
        }
      ]
    },
    {
      "cell_type": "code",
      "metadata": {
        "id": "Z6Dpcvvho2DH",
        "colab_type": "code",
        "colab": {
          "base_uri": "https://localhost:8080/",
          "height": 55
        },
        "outputId": "315af5ec-2dd9-4b25-a7a6-3093856dbc30"
      },
      "source": [
        "print(vocab)"
      ],
      "execution_count": 475,
      "outputs": [
        {
          "output_type": "stream",
          "text": [
            "{'moved', 'bathroom', 'in', 'Is', 'hallway', 'dropped', 'down', 'yes', 'kitchen', 'travelled', 'milk', 'bedroom', 'got', 'up', 'went', 'put', '?', 'office', 'Sandra', 'garden', 'discarded', 'to', 'Mary', 'took', 'football', 'no', 'journeyed', 'John', '.', 'left', 'the', 'Daniel', 'there', 'back', 'apple', 'grabbed', 'picked'}\n"
          ],
          "name": "stdout"
        }
      ]
    },
    {
      "cell_type": "code",
      "metadata": {
        "id": "j_cW2ekpo4Ip",
        "colab_type": "code",
        "colab": {}
      },
      "source": [
        "#Now we are going to calculate the longest story and the longest question\n",
        "#We need this for the Keras pad sequences. \n",
        "#Keras training layers expect all of the input to have the same length, so \n",
        "#we need to pad \n",
        "all_data = test_data + train_data"
      ],
      "execution_count": 476,
      "outputs": []
    },
    {
      "cell_type": "code",
      "metadata": {
        "id": "Y8t83e-joEzV",
        "colab_type": "code",
        "colab": {}
      },
      "source": [
        "all_story_lens = [len(data[0]) for data in all_data]"
      ],
      "execution_count": 477,
      "outputs": []
    },
    {
      "cell_type": "code",
      "metadata": {
        "id": "14IJ_LbtoHIB",
        "colab_type": "code",
        "colab": {}
      },
      "source": [
        "max_story_len = (max(all_story_lens))"
      ],
      "execution_count": 478,
      "outputs": []
    },
    {
      "cell_type": "code",
      "metadata": {
        "id": "fArY2xWPoJXX",
        "colab_type": "code",
        "colab": {}
      },
      "source": [
        "max_question_len = max([len(data[1]) for data in all_data])"
      ],
      "execution_count": 479,
      "outputs": []
    },
    {
      "cell_type": "markdown",
      "metadata": {
        "id": "sk6ZTlykoX6e",
        "colab_type": "text"
      },
      "source": [
        "### Vectorising the data"
      ]
    },
    {
      "cell_type": "code",
      "metadata": {
        "id": "o4mXXS0nodvB",
        "colab_type": "code",
        "colab": {}
      },
      "source": [
        "from keras.preprocessing.sequence import pad_sequences\n",
        "from keras.preprocessing.text import Tokenizer\n"
      ],
      "execution_count": 480,
      "outputs": []
    },
    {
      "cell_type": "code",
      "metadata": {
        "id": "DUsP1Nnkong8",
        "colab_type": "code",
        "colab": {}
      },
      "source": [
        "#Create an instance of the tokenizer object:\n",
        "tokenizer = Tokenizer(filters = [])\n",
        "tokenizer.fit_on_texts(vocab)"
      ],
      "execution_count": 481,
      "outputs": []
    },
    {
      "cell_type": "code",
      "metadata": {
        "id": "Xr85rpqkowsD",
        "colab_type": "code",
        "colab": {
          "base_uri": "https://localhost:8080/",
          "height": 55
        },
        "outputId": "3474375e-6b85-4217-d501-5aa02fbb0625"
      },
      "source": [
        "#Dictionary that maps every word in our vocab to an index\n",
        "# It has been automatically lowercased\n",
        "#This tokenizer can give different indexes for different words depending on when we run it\n",
        "print(tokenizer.word_index)"
      ],
      "execution_count": 482,
      "outputs": [
        {
          "output_type": "stream",
          "text": [
            "{'moved': 1, 'bathroom': 2, 'in': 3, 'is': 4, 'hallway': 5, 'dropped': 6, 'down': 7, 'yes': 8, 'kitchen': 9, 'travelled': 10, 'milk': 11, 'bedroom': 12, 'got': 13, 'up': 14, 'went': 15, 'put': 16, '?': 17, 'office': 18, 'sandra': 19, 'garden': 20, 'discarded': 21, 'to': 22, 'mary': 23, 'took': 24, 'football': 25, 'no': 26, 'journeyed': 27, 'john': 28, '.': 29, 'left': 30, 'the': 31, 'daniel': 32, 'there': 33, 'back': 34, 'apple': 35, 'grabbed': 36, 'picked': 37}\n"
          ],
          "name": "stdout"
        }
      ]
    },
    {
      "cell_type": "code",
      "metadata": {
        "id": "JEC6ZcLZr4wI",
        "colab_type": "code",
        "colab": {}
      },
      "source": [
        "#Tokenize the stories, questions and answers:\n",
        "train_story_text = []\n",
        "train_question_text = []\n",
        "train_answers = []\n",
        "#Separating each of the elements\n",
        "for story,question,answer in train_data:\n",
        "    train_story_text.append(story)\n",
        "    train_question_text.append(question) \n",
        "    train_answers.append(answer)\n",
        "#Coverting the text into the indexes \n",
        "train_story_seq = tokenizer.texts_to_sequences(train_story_text)"
      ],
      "execution_count": 483,
      "outputs": []
    },
    {
      "cell_type": "code",
      "metadata": {
        "id": "7dPTdDSEoLnI",
        "colab_type": "code",
        "colab": {}
      },
      "source": [
        "def vectorize_stories(data,word_index = tokenizer.word_index, max_story_len = max_story_len, max_question_len = max_question_len):\n",
        "    #vectorized stories:\n",
        "    X = []\n",
        "    #vectorized questions:\n",
        "    Xq = []\n",
        "    #vectorized answers:\n",
        "    Y = []\n",
        "    \n",
        "    for story, question, answer in data:\n",
        "        #Getting indexes for each word in the story\n",
        "        x = [word_index[word.lower()] for word in story]\n",
        "        #Getting indexes for each word in the story\n",
        "        xq = [word_index[word.lower()] for word in question]\n",
        "        #For the answers\n",
        "        y = np.zeros(len(word_index) + 1) #Index 0 Reserved when padding the sequences\n",
        "        y[word_index[answer]] = 1\n",
        "        \n",
        "        X.append(x)\n",
        "        Xq.append(xq)\n",
        "        Y.append(y)\n",
        "        \n",
        "    #Now we have to pad these sequences:\n",
        "    return(pad_sequences(X,maxlen=max_story_len), pad_sequences(Xq, maxlen=max_question_len), np.array(Y))"
      ],
      "execution_count": 484,
      "outputs": []
    },
    {
      "cell_type": "code",
      "metadata": {
        "id": "WgI8sQjwrU6D",
        "colab_type": "code",
        "colab": {}
      },
      "source": [
        "inputs_train, questions_train, answers_train = vectorize_stories(train_data)"
      ],
      "execution_count": 485,
      "outputs": []
    },
    {
      "cell_type": "code",
      "metadata": {
        "id": "RlKkANi1rVoh",
        "colab_type": "code",
        "colab": {}
      },
      "source": [
        "inputs_test, questions_test, answers_test = vectorize_stories(test_data)"
      ],
      "execution_count": 486,
      "outputs": []
    },
    {
      "cell_type": "code",
      "metadata": {
        "id": "u_Z0XmfwrZXp",
        "colab_type": "code",
        "colab": {
          "base_uri": "https://localhost:8080/",
          "height": 191
        },
        "outputId": "c223ca74-201f-4b96-db2a-a73d54222a6f"
      },
      "source": [
        "inputs_train[0]"
      ],
      "execution_count": 487,
      "outputs": [
        {
          "output_type": "execute_result",
          "data": {
            "text/plain": [
              "array([ 0,  0,  0,  0,  0,  0,  0,  0,  0,  0,  0,  0,  0,  0,  0,  0,  0,\n",
              "        0,  0,  0,  0,  0,  0,  0,  0,  0,  0,  0,  0,  0,  0,  0,  0,  0,\n",
              "        0,  0,  0,  0,  0,  0,  0,  0,  0,  0,  0,  0,  0,  0,  0,  0,  0,\n",
              "        0,  0,  0,  0,  0,  0,  0,  0,  0,  0,  0,  0,  0,  0,  0,  0,  0,\n",
              "        0,  0,  0,  0,  0,  0,  0,  0,  0,  0,  0,  0,  0,  0,  0,  0,  0,\n",
              "        0,  0,  0,  0,  0,  0,  0,  0,  0,  0,  0,  0,  0,  0,  0,  0,  0,\n",
              "        0,  0,  0,  0,  0,  0,  0,  0,  0,  0,  0,  0,  0,  0,  0,  0,  0,\n",
              "        0,  0,  0,  0,  0,  0,  0,  0,  0,  0,  0,  0,  0,  0,  0,  0,  0,\n",
              "        0,  0,  0,  0,  0,  0,  0,  0, 23,  1, 22, 31,  2, 29, 19, 27, 22,\n",
              "       31, 12, 29], dtype=int32)"
            ]
          },
          "metadata": {
            "tags": []
          },
          "execution_count": 487
        }
      ]
    },
    {
      "cell_type": "code",
      "metadata": {
        "id": "XjovQNI1rb0P",
        "colab_type": "code",
        "colab": {
          "base_uri": "https://localhost:8080/",
          "height": 225
        },
        "outputId": "064efcea-0ec5-4613-da7e-d4c001188d82"
      },
      "source": [
        "train_story_text[0]"
      ],
      "execution_count": 488,
      "outputs": [
        {
          "output_type": "execute_result",
          "data": {
            "text/plain": [
              "['Mary',\n",
              " 'moved',\n",
              " 'to',\n",
              " 'the',\n",
              " 'bathroom',\n",
              " '.',\n",
              " 'Sandra',\n",
              " 'journeyed',\n",
              " 'to',\n",
              " 'the',\n",
              " 'bedroom',\n",
              " '.']"
            ]
          },
          "metadata": {
            "tags": []
          },
          "execution_count": 488
        }
      ]
    },
    {
      "cell_type": "code",
      "metadata": {
        "id": "igLOVJ9hsNji",
        "colab_type": "code",
        "colab": {
          "base_uri": "https://localhost:8080/",
          "height": 35
        },
        "outputId": "fd497b8f-e2a5-4ccb-c765-35dbb176fef4"
      },
      "source": [
        "train_story_seq[0]"
      ],
      "execution_count": 489,
      "outputs": [
        {
          "output_type": "execute_result",
          "data": {
            "text/plain": [
              "[23, 1, 22, 31, 2, 29, 19, 27, 22, 31, 12, 29]"
            ]
          },
          "metadata": {
            "tags": []
          },
          "execution_count": 489
        }
      ]
    },
    {
      "cell_type": "markdown",
      "metadata": {
        "id": "9eVZhTiHsdQS",
        "colab_type": "text"
      },
      "source": [
        "## Building the Model"
      ]
    },
    {
      "cell_type": "code",
      "metadata": {
        "id": "89p9iRVosbEZ",
        "colab_type": "code",
        "colab": {}
      },
      "source": [
        "#Imports\n",
        "from keras.models import Sequential, Model\n",
        "from keras.layers.embeddings import Embedding\n",
        "from keras.layers import Input, Activation, Dense, Permute, Dropout, add, dot, concatenate, LSTM"
      ],
      "execution_count": 490,
      "outputs": []
    },
    {
      "cell_type": "code",
      "metadata": {
        "id": "8LKS-VZmsjw4",
        "colab_type": "code",
        "colab": {}
      },
      "source": [
        "# We need to create the placeholders \n",
        "#The Input function is used to create a keras tensor\n",
        "#PLACEHOLDER shape = (max_story_len,batch_size)\n",
        "#These are our placeholder for the inputs, ready to recieve batches of the stories and the questions\n",
        "input_sequence = Input((max_story_len,)) #As we dont know batch size yet\n",
        "question = Input((max_question_len,))"
      ],
      "execution_count": 491,
      "outputs": []
    },
    {
      "cell_type": "code",
      "metadata": {
        "id": "Xci-Je3ysnpX",
        "colab_type": "code",
        "colab": {}
      },
      "source": [
        "#Create input encoder M:\n",
        "input_encoder_m = Sequential()\n",
        "input_encoder_m.add(Embedding(input_dim=vocab_len,output_dim = 64)) #From paper\n",
        "input_encoder_m.add(Dropout(0.3))\n",
        "\n",
        "#Outputs: (Samples, story_maxlen,embedding_dim) -- Gives a list of the lenght of the samples where each item has the\n",
        "#lenght of the max story lenght and every word is embedded in the embbeding dimension"
      ],
      "execution_count": 492,
      "outputs": []
    },
    {
      "cell_type": "code",
      "metadata": {
        "id": "5bVFkB7jsqtN",
        "colab_type": "code",
        "colab": {}
      },
      "source": [
        "#Create input encoder C:\n",
        "input_encoder_c = Sequential()\n",
        "input_encoder_c.add(Embedding(input_dim=vocab_len,output_dim = max_question_len)) #From paper\n",
        "input_encoder_c.add(Dropout(0.3))\n",
        "\n",
        "#Outputs: (samples, story_maxlen, max_question_len)"
      ],
      "execution_count": 493,
      "outputs": []
    },
    {
      "cell_type": "code",
      "metadata": {
        "id": "2x1zxmUAss_y",
        "colab_type": "code",
        "colab": {}
      },
      "source": [
        "#Create question encoder:\n",
        "question_encoder = Sequential()\n",
        "question_encoder.add(Embedding(input_dim=vocab_len,output_dim = 64,input_length=max_question_len)) #From paper\n",
        "question_encoder.add(Dropout(0.3))\n",
        "\n",
        "#Outputs: (samples, question_maxlen, embedding_dim)"
      ],
      "execution_count": 494,
      "outputs": []
    },
    {
      "cell_type": "code",
      "metadata": {
        "id": "tE4-QCnpsv5O",
        "colab_type": "code",
        "colab": {}
      },
      "source": [
        "#Now lets encode the sequences, passing the placeholders into our encoders:\n",
        "input_encoded_m = input_encoder_m(input_sequence)\n",
        "input_encoded_c = input_encoder_c(input_sequence)\n",
        "question_encoded = question_encoder(question)"
      ],
      "execution_count": 495,
      "outputs": []
    },
    {
      "cell_type": "code",
      "metadata": {
        "id": "q6swzTKOs50p",
        "colab_type": "code",
        "colab": {}
      },
      "source": [
        "#Use dot product to compute similarity between input encoded m and question \n",
        "#Like in the paper:\n",
        "match = dot([input_encoded_m,question_encoded], axes = (2,2))\n",
        "match = Activation('softmax')(match)"
      ],
      "execution_count": 496,
      "outputs": []
    },
    {
      "cell_type": "code",
      "metadata": {
        "id": "nrZjOehbs_My",
        "colab_type": "code",
        "colab": {}
      },
      "source": [
        "#For the response we want to add this match with the ouput of input_encoded_c\n",
        "response = add([match,input_encoded_c])\n",
        "response = Permute((2,1))(response) #Permute Layer: permutes dimensions of input"
      ],
      "execution_count": 497,
      "outputs": []
    },
    {
      "cell_type": "code",
      "metadata": {
        "id": "C8jxEupntBz-",
        "colab_type": "code",
        "colab": {}
      },
      "source": [
        "#Once we have the response we can concatenate it with the question encoded:\n",
        "answer = concatenate([response, question_encoded])"
      ],
      "execution_count": 498,
      "outputs": []
    },
    {
      "cell_type": "code",
      "metadata": {
        "id": "b0O83taUtFe_",
        "colab_type": "code",
        "colab": {
          "base_uri": "https://localhost:8080/",
          "height": 35
        },
        "outputId": "4ca16ac1-3a5c-4f4b-9e79-e2c9fb83cb0c"
      },
      "source": [
        "\n",
        "answer"
      ],
      "execution_count": 499,
      "outputs": [
        {
          "output_type": "execute_result",
          "data": {
            "text/plain": [
              "<tf.Tensor 'concatenate_7/concat:0' shape=(None, 6, 220) dtype=float32>"
            ]
          },
          "metadata": {
            "tags": []
          },
          "execution_count": 499
        }
      ]
    },
    {
      "cell_type": "code",
      "metadata": {
        "id": "Y8WBL0m_tp-f",
        "colab_type": "code",
        "colab": {}
      },
      "source": [
        "# Reduce the answer tensor with a RNN (LSTM)\n",
        "answer = LSTM(32)(answer)"
      ],
      "execution_count": 500,
      "outputs": []
    },
    {
      "cell_type": "code",
      "metadata": {
        "id": "c0gh_i0sttFP",
        "colab_type": "code",
        "colab": {}
      },
      "source": [
        "#Regularization with dropout:\n",
        "answer = Dropout(0.5)(answer)\n",
        "#Output layer:\n",
        "answer = Dense(vocab_len)(answer) #Output shape: (Samples, Vocab_size) #Yes or no and all 0s"
      ],
      "execution_count": 501,
      "outputs": []
    },
    {
      "cell_type": "code",
      "metadata": {
        "id": "vJaw7j05tycV",
        "colab_type": "code",
        "colab": {}
      },
      "source": [
        "#Now we need to output a probability distribution for the vocab, using softmax:\n",
        "answer = Activation('softmax')(answer)"
      ],
      "execution_count": 502,
      "outputs": []
    },
    {
      "cell_type": "code",
      "metadata": {
        "id": "aSAYyN_Ht3Vk",
        "colab_type": "code",
        "colab": {}
      },
      "source": [
        "#Now we build the final model:\n",
        "model = Model([input_sequence,question], answer)"
      ],
      "execution_count": 503,
      "outputs": []
    },
    {
      "cell_type": "code",
      "metadata": {
        "id": "KTqh7YZ4t6oL",
        "colab_type": "code",
        "colab": {}
      },
      "source": [
        "model.compile(optimizer='adam', loss = 'categorical_crossentropy', metrics = ['accuracy'])\n",
        "#Categorical instead of binary cross entropy as because of the way we are training\n",
        "#we could actually see any of the words from the vocab as output\n",
        "#however, we should only see yes or no"
      ],
      "execution_count": 504,
      "outputs": []
    },
    {
      "cell_type": "code",
      "metadata": {
        "id": "td9chEqHt-Xk",
        "colab_type": "code",
        "colab": {
          "base_uri": "https://localhost:8080/",
          "height": 693
        },
        "outputId": "e522f30c-8a46-4525-bc68-ad9b944392ab"
      },
      "source": [
        "model.summary()"
      ],
      "execution_count": 505,
      "outputs": [
        {
          "output_type": "stream",
          "text": [
            "Model: \"model_9\"\n",
            "__________________________________________________________________________________________________\n",
            "Layer (type)                    Output Shape         Param #     Connected to                     \n",
            "==================================================================================================\n",
            "input_13 (InputLayer)           (None, 156)          0                                            \n",
            "__________________________________________________________________________________________________\n",
            "input_14 (InputLayer)           (None, 6)            0                                            \n",
            "__________________________________________________________________________________________________\n",
            "sequential_19 (Sequential)      multiple             2432        input_13[0][0]                   \n",
            "__________________________________________________________________________________________________\n",
            "sequential_21 (Sequential)      (None, 6, 64)        2432        input_14[0][0]                   \n",
            "__________________________________________________________________________________________________\n",
            "dot_7 (Dot)                     (None, 156, 6)       0           sequential_19[1][0]              \n",
            "                                                                 sequential_21[1][0]              \n",
            "__________________________________________________________________________________________________\n",
            "activation_13 (Activation)      (None, 156, 6)       0           dot_7[0][0]                      \n",
            "__________________________________________________________________________________________________\n",
            "sequential_20 (Sequential)      multiple             228         input_13[0][0]                   \n",
            "__________________________________________________________________________________________________\n",
            "add_7 (Add)                     (None, 156, 6)       0           activation_13[0][0]              \n",
            "                                                                 sequential_20[1][0]              \n",
            "__________________________________________________________________________________________________\n",
            "permute_7 (Permute)             (None, 6, 156)       0           add_7[0][0]                      \n",
            "__________________________________________________________________________________________________\n",
            "concatenate_7 (Concatenate)     (None, 6, 220)       0           permute_7[0][0]                  \n",
            "                                                                 sequential_21[1][0]              \n",
            "__________________________________________________________________________________________________\n",
            "lstm_7 (LSTM)                   (None, 32)           32384       concatenate_7[0][0]              \n",
            "__________________________________________________________________________________________________\n",
            "dropout_28 (Dropout)            (None, 32)           0           lstm_7[0][0]                     \n",
            "__________________________________________________________________________________________________\n",
            "dense_7 (Dense)                 (None, 38)           1254        dropout_28[0][0]                 \n",
            "__________________________________________________________________________________________________\n",
            "activation_14 (Activation)      (None, 38)           0           dense_7[0][0]                    \n",
            "==================================================================================================\n",
            "Total params: 38,730\n",
            "Trainable params: 38,730\n",
            "Non-trainable params: 0\n",
            "__________________________________________________________________________________________________\n"
          ],
          "name": "stdout"
        }
      ]
    },
    {
      "cell_type": "code",
      "metadata": {
        "id": "ZRgC-YPuuBLP",
        "colab_type": "code",
        "colab": {}
      },
      "source": [
        "\n",
        "history = model.fit([inputs_train,questions_train],answers_train, batch_size = 32, epochs = 100, validation_data = ([inputs_test,questions_test],answers_test))"
      ],
      "execution_count": null,
      "outputs": []
    },
    {
      "cell_type": "code",
      "metadata": {
        "id": "tvQm1_iMuU0X",
        "colab_type": "code",
        "colab": {}
      },
      "source": [
        "filename = 'chatbot_model.h10'\n",
        "model.save(filename)"
      ],
      "execution_count": 507,
      "outputs": []
    },
    {
      "cell_type": "code",
      "metadata": {
        "id": "owhiWdjIvCV7",
        "colab_type": "code",
        "colab": {
          "base_uri": "https://localhost:8080/",
          "height": 747
        },
        "outputId": "5467b570-4da6-4c98-86a3-54196872170e"
      },
      "source": [
        "#Lets plot the increase of accuracy as we increase the number of training epochs\n",
        "#We can see that without any training the acc is about 50%, random guessing\n",
        "import matplotlib.pyplot as plt\n",
        "%matplotlib inline\n",
        "print(history.history.keys())\n",
        "# summarize history for accuracy\n",
        "plt.figure(figsize=(12,12))\n",
        "plt.plot(history.history['accuracy'])\n",
        "plt.plot(history.history['val_accuracy'])\n",
        "plt.title('model accuracy')\n",
        "plt.ylabel('accuracy')\n",
        "plt.xlabel('epoch')\n",
        "plt.legend(['train', 'test'], loc='upper left')\n",
        "plt.show()\n"
      ],
      "execution_count": 508,
      "outputs": [
        {
          "output_type": "stream",
          "text": [
            "dict_keys(['val_loss', 'val_accuracy', 'loss', 'accuracy'])\n"
          ],
          "name": "stdout"
        },
        {
          "output_type": "display_data",
          "data": {
            "image/png": "[encoded data removed]",
            "text/plain": [
              "<Figure size 864x864 with 1 Axes>"
            ]
          },
          "metadata": {
            "tags": [],
            "needs_background": "light"
          }
        }
      ]
    },
    {
      "cell_type": "markdown",
      "metadata": {
        "id": "Tkabej_bNIj4",
        "colab_type": "text"
      },
      "source": [
        "### Test the Model"
      ]
    },
    {
      "cell_type": "code",
      "metadata": {
        "id": "FWDKkrQivG36",
        "colab_type": "code",
        "colab": {
          "base_uri": "https://localhost:8080/",
          "height": 72
        },
        "outputId": "bee36cdd-a71b-4930-92dd-21f64537a09b"
      },
      "source": [
        "#To load a model that we have already trained and saved:\n",
        "from keras.models import load_model\n",
        "model=load_model('/content/chatbot_model.h10')\n",
        "\n"
      ],
      "execution_count": 544,
      "outputs": [
        {
          "output_type": "stream",
          "text": [
            "/usr/local/lib/python3.6/dist-packages/tensorflow/python/framework/indexed_slices.py:434: UserWarning: Converting sparse IndexedSlices to a dense Tensor of unknown shape. This may consume a large amount of memory.\n",
            "  \"Converting sparse IndexedSlices to a dense Tensor of unknown shape. \"\n"
          ],
          "name": "stderr"
        }
      ]
    },
    {
      "cell_type": "code",
      "metadata": {
        "id": "48NixxeuvNFh",
        "colab_type": "code",
        "colab": {}
      },
      "source": [
        "#Lets check out the predictions on the test set:\n",
        "#These are just probabilities for every single word on the vocab\n",
        "pred_results = model.predict(([inputs_test,questions_test]))"
      ],
      "execution_count": 545,
      "outputs": []
    },
    {
      "cell_type": "code",
      "metadata": {
        "id": "3HUAxjFTvPrt",
        "colab_type": "code",
        "colab": {
          "base_uri": "https://localhost:8080/",
          "height": 260
        },
        "outputId": "d69030dd-c21a-42a5-bfc7-f503c9824bf7"
      },
      "source": [
        "#First test data point\n",
        "test_data[0]"
      ],
      "execution_count": 546,
      "outputs": [
        {
          "output_type": "execute_result",
          "data": {
            "text/plain": [
              "(['Mary',\n",
              "  'got',\n",
              "  'the',\n",
              "  'milk',\n",
              "  'there',\n",
              "  '.',\n",
              "  'John',\n",
              "  'moved',\n",
              "  'to',\n",
              "  'the',\n",
              "  'bedroom',\n",
              "  '.'],\n",
              " ['Is', 'John', 'in', 'the', 'kitchen', '?'],\n",
              " 'no')"
            ]
          },
          "metadata": {
            "tags": []
          },
          "execution_count": 546
        }
      ]
    },
    {
      "cell_type": "code",
      "metadata": {
        "id": "ibR96EZ5vTtW",
        "colab_type": "code",
        "colab": {
          "base_uri": "https://localhost:8080/",
          "height": 191
        },
        "outputId": "137286e0-0311-4856-fe44-7e0aa1778a2a"
      },
      "source": [
        "#These are the probabilities for the vocab words using the 1st sentence\n",
        "pred_results[0]"
      ],
      "execution_count": 547,
      "outputs": [
        {
          "output_type": "execute_result",
          "data": {
            "text/plain": [
              "array([7.8486398e-14, 7.4002355e-14, 5.8381902e-14, 8.4658056e-14,\n",
              "       6.0745449e-14, 6.4910581e-14, 5.6233847e-14, 6.4374863e-14,\n",
              "       3.1387189e-04, 5.4258000e-14, 7.3613817e-14, 5.4822547e-14,\n",
              "       5.5996244e-14, 4.9346811e-14, 9.7374318e-14, 5.3766385e-14,\n",
              "       1.0897339e-13, 6.1730894e-14, 6.3984977e-14, 1.0048812e-13,\n",
              "       9.2711822e-14, 1.1036671e-13, 9.8954543e-14, 5.6103790e-14,\n",
              "       6.7933777e-14, 5.6448556e-14, 9.9968612e-01, 7.4600265e-14,\n",
              "       7.1462001e-14, 6.4112147e-14, 5.9549283e-14, 5.2002256e-14,\n",
              "       6.2774323e-14, 7.8156990e-14, 6.6290635e-14, 5.7822148e-14,\n",
              "       9.0104295e-14, 7.1634220e-14], dtype=float32)"
            ]
          },
          "metadata": {
            "tags": []
          },
          "execution_count": 547
        }
      ]
    },
    {
      "cell_type": "code",
      "metadata": {
        "id": "5mQvpgAPvXOL",
        "colab_type": "code",
        "colab": {}
      },
      "source": [
        "val_max = np.argmax(pred_results[0])"
      ],
      "execution_count": 548,
      "outputs": []
    },
    {
      "cell_type": "code",
      "metadata": {
        "id": "sieE2YhYvhlc",
        "colab_type": "code",
        "colab": {
          "base_uri": "https://localhost:8080/",
          "height": 35
        },
        "outputId": "2cc266bb-9fed-4940-e55a-3d91cb0e7887"
      },
      "source": [
        "for key,val in tokenizer.word_index.items():\n",
        "    if val == val_max:\n",
        "        k = key\n",
        "print(k)"
      ],
      "execution_count": 549,
      "outputs": [
        {
          "output_type": "stream",
          "text": [
            "no\n"
          ],
          "name": "stdout"
        }
      ]
    },
    {
      "cell_type": "code",
      "metadata": {
        "id": "oO1AHa3QvqYh",
        "colab_type": "code",
        "colab": {
          "base_uri": "https://localhost:8080/",
          "height": 35
        },
        "outputId": "ebce41a4-b14f-4329-ae38-847b1a069abe"
      },
      "source": [
        "#See probability:\n",
        "pred_results[0][val_max]"
      ],
      "execution_count": 550,
      "outputs": [
        {
          "output_type": "execute_result",
          "data": {
            "text/plain": [
              "0.9996861"
            ]
          },
          "metadata": {
            "tags": []
          },
          "execution_count": 550
        }
      ]
    },
    {
      "cell_type": "code",
      "metadata": {
        "id": "oLWAj8Iv9hnU",
        "colab_type": "code",
        "colab": {
          "base_uri": "https://localhost:8080/",
          "height": 72
        },
        "outputId": "ae3ad6a5-2b69-486b-def0-8bfcfc65c1ad"
      },
      "source": [
        "#To load a model that we have already trained and saved:\n",
        "from keras.models import load_model\n",
        "new_model=load_model('/content/chatbot_model.h10')"
      ],
      "execution_count": 509,
      "outputs": [
        {
          "output_type": "stream",
          "text": [
            "/usr/local/lib/python3.6/dist-packages/tensorflow/python/framework/indexed_slices.py:434: UserWarning: Converting sparse IndexedSlices to a dense Tensor of unknown shape. This may consume a large amount of memory.\n",
            "  \"Converting sparse IndexedSlices to a dense Tensor of unknown shape. \"\n"
          ],
          "name": "stderr"
        }
      ]
    },
    {
      "cell_type": "code",
      "metadata": {
        "id": "W-P40kXHvtGV",
        "colab_type": "code",
        "colab": {
          "base_uri": "https://localhost:8080/",
          "height": 659
        },
        "outputId": "ccc3cc84-53ad-49d6-df53-124335ff3ea0"
      },
      "source": [
        "\n",
        "#Now, we can make our own questions using the vocabulary we have\n",
        "vocab"
      ],
      "execution_count": 510,
      "outputs": [
        {
          "output_type": "execute_result",
          "data": {
            "text/plain": [
              "{'.',\n",
              " '?',\n",
              " 'Daniel',\n",
              " 'Is',\n",
              " 'John',\n",
              " 'Mary',\n",
              " 'Sandra',\n",
              " 'apple',\n",
              " 'back',\n",
              " 'bathroom',\n",
              " 'bedroom',\n",
              " 'discarded',\n",
              " 'down',\n",
              " 'dropped',\n",
              " 'football',\n",
              " 'garden',\n",
              " 'got',\n",
              " 'grabbed',\n",
              " 'hallway',\n",
              " 'in',\n",
              " 'journeyed',\n",
              " 'kitchen',\n",
              " 'left',\n",
              " 'milk',\n",
              " 'moved',\n",
              " 'no',\n",
              " 'office',\n",
              " 'picked',\n",
              " 'put',\n",
              " 'the',\n",
              " 'there',\n",
              " 'to',\n",
              " 'took',\n",
              " 'travelled',\n",
              " 'up',\n",
              " 'went',\n",
              " 'yes'}"
            ]
          },
          "metadata": {
            "tags": []
          },
          "execution_count": 510
        }
      ]
    },
    {
      "cell_type": "code",
      "metadata": {
        "id": "9ktOaJW5vyFm",
        "colab_type": "code",
        "colab": {}
      },
      "source": [
        "my_story = \"John left the kitchen . Sandra dropped the football in the garden .\"\n",
        "my_question = \"Is John left the kitchen ?\""
      ],
      "execution_count": 537,
      "outputs": []
    },
    {
      "cell_type": "code",
      "metadata": {
        "id": "rW5QXcqiwDU4",
        "colab_type": "code",
        "colab": {}
      },
      "source": [
        "#Put the data in the same format as before\n",
        "my_data = [(my_story.split(), my_question.split(),'yes')]"
      ],
      "execution_count": 538,
      "outputs": []
    },
    {
      "cell_type": "code",
      "metadata": {
        "id": "0CPCpQJTwGA8",
        "colab_type": "code",
        "colab": {}
      },
      "source": [
        "\n",
        "#Vectorize this data\n",
        "my_story, my_ques, my_ans = vectorize_stories(my_data)"
      ],
      "execution_count": 539,
      "outputs": []
    },
    {
      "cell_type": "code",
      "metadata": {
        "id": "NPK0L_M8wJWQ",
        "colab_type": "code",
        "colab": {
          "base_uri": "https://localhost:8080/",
          "height": 156
        },
        "outputId": "8d54744f-5b33-42af-98da-c2443277a0e2"
      },
      "source": [
        "\n",
        "#Make the prediction\n",
        "pred_results = new_model.predict(([my_story,my_ques]))\n",
        "print(pred_results)"
      ],
      "execution_count": 540,
      "outputs": [
        {
          "output_type": "stream",
          "text": [
            "[[3.5882118e-12 3.2988007e-12 2.6436980e-12 4.2214197e-12 2.5450397e-12\n",
            "  3.3433373e-12 2.5426766e-12 2.6117769e-12 7.6728815e-01 2.5145446e-12\n",
            "  3.2566022e-12 2.5355139e-12 2.6344311e-12 2.0178902e-12 5.0790839e-12\n",
            "  2.1226146e-12 4.8332770e-12 2.6149920e-12 3.0280969e-12 4.6232180e-12\n",
            "  4.3193274e-12 5.6177571e-12 4.4199024e-12 2.4795582e-12 3.0544727e-12\n",
            "  2.5143386e-12 2.3271182e-01 4.0629765e-12 3.5000338e-12 3.0308243e-12\n",
            "  3.1051019e-12 2.3959335e-12 2.7926478e-12 3.9747745e-12 3.0705009e-12\n",
            "  2.8089467e-12 5.0486017e-12 3.5202663e-12]]\n"
          ],
          "name": "stdout"
        }
      ]
    },
    {
      "cell_type": "code",
      "metadata": {
        "id": "U62CxlxfwMko",
        "colab_type": "code",
        "colab": {}
      },
      "source": [
        "val_max = np.argmax(pred_results)"
      ],
      "execution_count": 541,
      "outputs": []
    },
    {
      "cell_type": "code",
      "metadata": {
        "id": "-eeAzE8BwQyR",
        "colab_type": "code",
        "colab": {
          "base_uri": "https://localhost:8080/",
          "height": 35
        },
        "outputId": "d07c5745-af73-4563-9e42-10f62b215fd9"
      },
      "source": [
        "#Correct prediction!\n",
        "for key,val in tokenizer.word_index.items():\n",
        "    if val == val_max:\n",
        "        k = key\n",
        "print(k)"
      ],
      "execution_count": 542,
      "outputs": [
        {
          "output_type": "stream",
          "text": [
            "yes\n"
          ],
          "name": "stdout"
        }
      ]
    },
    {
      "cell_type": "code",
      "metadata": {
        "id": "YzxYZAR3wTJZ",
        "colab_type": "code",
        "colab": {
          "base_uri": "https://localhost:8080/",
          "height": 35
        },
        "outputId": "b3735637-6e6a-46b5-d298-c12f482f7fab"
      },
      "source": [
        "\n",
        "#Confidence\n",
        "pred_results[0][val_max]\n",
        "\n",
        "\n"
      ],
      "execution_count": 543,
      "outputs": [
        {
          "output_type": "execute_result",
          "data": {
            "text/plain": [
              "0.76728815"
            ]
          },
          "metadata": {
            "tags": []
          },
          "execution_count": 543
        }
      ]
    },
    {
      "cell_type": "code",
      "metadata": {
        "id": "xJa10DFXBI1s",
        "colab_type": "code",
        "colab": {}
      },
      "source": [
        ""
      ],
      "execution_count": 311,
      "outputs": []
    }
  ]
}